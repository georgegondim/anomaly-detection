{
 "cells": [
  {
   "cell_type": "code",
   "execution_count": 1,
   "metadata": {
    "collapsed": true
   },
   "outputs": [],
   "source": [
    "import numpy as np\n",
    "import pandas as pd\n",
    "import matplotlib.pyplot as plt\n",
    "import seaborn as sns\n",
    "\n",
    "%matplotlib inline"
   ]
  },
  {
   "cell_type": "code",
   "execution_count": 2,
   "metadata": {
    "scrolled": true
   },
   "outputs": [],
   "source": [
    "from sklearn.metrics import roc_curve, auc, roc_auc_score\n",
    "from sklearn.metrics import recall_score, precision_score, accuracy_score, log_loss\n",
    "\n",
    "\n",
    "def eval(model, x, y, loss_weights):\n",
    "    y_score = model.predict(x) \n",
    "    y_pred =  y_score > 0.5\n",
    "    \n",
    "    if loss_weights is not None:\n",
    "        weights = np.empty_like(y)\n",
    "        weights[y == 0] = loss_weights[0]\n",
    "        weights[y == 1] = loss_weights[1]\n",
    "    else:\n",
    "        weights = None\n",
    "        \n",
    "    loss = log_loss(y, y_score, 10e-8, sample_weight=weights)\n",
    "    acc = accuracy_score(y, y_pred)\n",
    "    recall =  recall_score(y, y_pred)\n",
    "    precision =  precision_score(y, y_pred)\n",
    "    auc = roc_auc_score(y, y_score, sample_weight=weights)\n",
    "\n",
    "    return loss, acc, recall, precision, auc\n",
    "\n",
    "\n",
    "def log_scores(model, x, y, log_id, scores, loss_weights):\n",
    "    loss, acc, recall, precision, auc = eval(model, x, y, loss_weights)\n",
    "    print('\\t%s: loss = %.8f, recall = %.6f, precision = %.6f, accuracy = %.6f, auc = %.6f' \n",
    "          % (log_id, loss, recall, precision, acc, auc))\n",
    "    scores['loss'].append(loss)\n",
    "    scores['acc'].append(acc)\n",
    "    scores['recall'].append(recall)\n",
    "    scores['precision'].append(precision)\n",
    "    scores['auc'].append(auc)\n",
    "\n",
    "\n",
    "def train(model, epochs, epochs_to_eval):\n",
    "    scores_train = {\n",
    "        'loss': [],\n",
    "        'acc': [],\n",
    "        'recall': [],\n",
    "        'precision': [],\n",
    "        'auc': []\n",
    "    }\n",
    "    \n",
    "    scores_val = {\n",
    "        'loss': [],\n",
    "        'acc': [],\n",
    "        'recall': [],\n",
    "        'precision': [],\n",
    "        'auc': []\n",
    "    }\n",
    "    \n",
    "    for epoch in range(0, epochs, epochs_to_eval):\n",
    "        print('Epoch %d/%d' % (epoch, epochs))\n",
    "        log_scores(model, x_train, y_train, 'train', scores_train, params['weights'])\n",
    "        log_scores(model, x_val, y_val, 'valid', scores_val,params['weights'])\n",
    "        model.fit(x_train, y_train, batch_size=200, verbose=0, epochs=epochs_to_eval, \n",
    "                  class_weight=params['weights'])\n",
    "    \n",
    "    if 'epoch' not in locals():\n",
    "        epoch = 0\n",
    "    else:\n",
    "        epoch += epochs_to_eval\n",
    "    \n",
    "    print('Epoch %d/%d' % (epoch, epochs))\n",
    "    log_scores(model, x_train, y_train, 'train', scores_train, params['weights'])\n",
    "    log_scores(model, x_val, y_val, 'valid', scores_val, params['weights'])\n",
    "    \n",
    "    return (scores_train, scores_val)"
   ]
  },
  {
   "cell_type": "markdown",
   "metadata": {},
   "source": [
    "# Always predict anomaly"
   ]
  },
  {
   "cell_type": "code",
   "execution_count": 6,
   "metadata": {},
   "outputs": [
    {
     "name": "stdout",
     "output_type": "stream",
     "text": [
      "Epoch 0/0\n",
      "\ttrain: loss = 16.09024134, recall = 1.000000, precision = 0.001728, accuracy = 0.001728, auc = 0.500000\n",
      "\tvalid: loss = 16.09050586, recall = 1.000000, precision = 0.001712, accuracy = 0.001712, auc = 0.500000\n"
     ]
    }
   ],
   "source": [
    "data = np.load('../data/creditcard_train.npz')\n",
    "x_train, y_train = data['x_train'], data['y_train']\n",
    "x_val, y_val = data['x_val'], data['y_val']\n",
    "\n",
    "\n",
    "class EmptyModel(object):\n",
    "    def __init__(self):\n",
    "        self.predict = None\n",
    "        self.fit = None\n",
    "\n",
    "params = {\n",
    "    'loss': 'binary_crossentropy',\n",
    "    'weights': None\n",
    "}\n",
    "        \n",
    "model = EmptyModel()\n",
    "model.predict = lambda x: np.ones((x.shape[0],))\n",
    "model.fit = lambda x, y, batch_size, verbose, epochs: 0\n",
    "\n",
    "_, _ = train(model, 0, 1)"
   ]
  },
  {
   "cell_type": "markdown",
   "metadata": {},
   "source": [
    "# Always predict not anomaly"
   ]
  },
  {
   "cell_type": "code",
   "execution_count": 7,
   "metadata": {},
   "outputs": [
    {
     "name": "stdout",
     "output_type": "stream",
     "text": [
      "Epoch 0/0\n",
      "\ttrain: loss = 0.02785441, recall = 0.000000, precision = 0.000000, accuracy = 0.998272, auc = 0.500000\n",
      "\tvalid: loss = 0.02758989, recall = 0.000000, precision = 0.000000, accuracy = 0.998288, auc = 0.500000\n"
     ]
    },
    {
     "name": "stderr",
     "output_type": "stream",
     "text": [
      "/home/george/anaconda/lib/python3.6/site-packages/sklearn/metrics/classification.py:1113: UndefinedMetricWarning: Precision is ill-defined and being set to 0.0 due to no predicted samples.\n",
      "  'precision', 'predicted', average, warn_for)\n"
     ]
    }
   ],
   "source": [
    "model.predict = lambda x: np.zeros((x.shape[0],))\n",
    "_, _ = train(model, 0, 1)"
   ]
  }
 ],
 "metadata": {
  "kernelspec": {
   "display_name": "Python 3",
   "language": "python",
   "name": "python3"
  },
  "language_info": {
   "codemirror_mode": {
    "name": "ipython",
    "version": 3
   },
   "file_extension": ".py",
   "mimetype": "text/x-python",
   "name": "python",
   "nbconvert_exporter": "python",
   "pygments_lexer": "ipython3",
   "version": "3.6.1"
  }
 },
 "nbformat": 4,
 "nbformat_minor": 2
}
